{
 "cells": [
  {
   "cell_type": "markdown",
   "metadata": {},
   "source": [
    "**Задание 1**. Даны 2 строки: *long_phrase* и *short_phrase*. \n",
    "Напишите код, который проверяет действительно ли длинная фраза *long_phrase* длиннее короткой *short_phrase*. И выводит *True* или *False* в зависимости от результата сравнения."
   ]
  },
  {
   "cell_type": "code",
   "execution_count": null,
   "metadata": {},
   "outputs": [],
   "source": [
    "long_phrase = 'Насколько проще было бы писать программы, если бы не заказчики'\n",
    "short_phrase = '640Кб должно хватить для любых задач. Билл Гейтс (по легенде)'"
   ]
  },
  {
   "cell_type": "code",
   "execution_count": 1,
   "metadata": {},
   "outputs": [
    {
     "name": "stdout",
     "output_type": "stream",
     "text": [
      "True\n"
     ]
    }
   ],
   "source": [
    "long_phrase = 'Насколько проще было бы писать программы, если бы не заказчики'\n",
    "short_phrase = '640Кб должно хватить для любых задач. Билл Гейтс (по легенде)'\n",
    "if long_phrase > short_phrase:\n",
    "    print ('True')\n",
    "else:\n",
    "    print ('False')"
   ]
  },
  {
   "cell_type": "markdown",
   "metadata": {},
   "source": [
    "**Задание 2**. Дано значение объема файла в байтах (*в мегабайте 2^20 байт*). Напишите перевод этого значения в мегабайты в формате: \"*Объем файла равен 213.68Mb*\"."
   ]
  },
  {
   "cell_type": "code",
   "execution_count": 10,
   "metadata": {},
   "outputs": [
    {
     "name": "stdout",
     "output_type": "stream",
     "text": [
      "4700.96\n",
      "Объем файла равен 213.68 Mb\n"
     ]
    }
   ],
   "source": [
    "x = 213.68 * (2 ^ 20)\n",
    "print(x)\n",
    "print ('Объем файла равен 213.68 Mb')"
   ]
  },
  {
   "cell_type": "markdown",
   "metadata": {},
   "source": [
    "**Задание 3**. Разработать приложение для определения знака зодиака по дате рождения. Пример:\n",
    "\n",
    "Введите месяц: март\n",
    "\n",
    "Введите число: 6\n",
    "\n",
    "Вывод:\n",
    "\n",
    "Рыбы"
   ]
  },
  {
   "cell_type": "code",
   "execution_count": 3,
   "metadata": {},
   "outputs": [
    {
     "name": "stdout",
     "output_type": "stream",
     "text": [
      "Введите месяц: 2\n",
      "Введите дату: 18\n",
      "Водолей\n"
     ]
    }
   ],
   "source": [
    "user_month = int(input('Введите месяц: '))\n",
    "user_date = int(input('Введите дату: '))\n",
    "if ((user_month == 12) and (22 <= user_date <= 31)) or ((user_month == 1) and (1 <= user_date <= 19)):\n",
    "    print('Козерог')\n",
    "if ((user_month == 11) and (22 <= user_date <= 30)) or ((user_month == 12) and (1 <= user_date <= 21)): \n",
    "    print('Скорпион')\n",
    "if ((user_month == 10) and (23 <= user_date <= 31)) or ((user_month == 11) and (1 <= user_date <= 21)) :\n",
    "    print('Стрелец')\n",
    "if ((user_month == 9) and (23 <= user_date <= 30)) or ((user_month == 10) and (1 <= user_date <= 22)):\n",
    "    print('Весы')\n",
    "if ((user_month == 8) and (23 <= user_date <= 31)) or ((user_month == 9) and (1 <= user_date <= 22)):\n",
    "    print('Дева')\n",
    "if ((user_month == 7) and (23 <= user_date <= 31)) or ((user_month == 8) and (1 <= user_date <= 22)):\n",
    "    print('Лев')\n",
    "if ((user_month == 6) and (21 <= user_date <= 30)) or ((user_month == 7) and (1 <= user_date <= 22)):\n",
    "    print('Рак')\n",
    "if ((user_month == 5) and (21 <= user_date <= 31)) or ((user_month == 6) and (1 <= user_date <= 20)):\n",
    "    print('Близнецы')\n",
    "if ((user_month == 4) and (20 <= user_date <= 30)) or ((user_month == 5) and (1 <= user_date <= 20)):\n",
    "    print('Телец')\n",
    "if ((user_month == 3) and (21 <= user_date <= 31)) or ((user_month == 4) and (1 <= user_date <= 19)):\n",
    "    print('Овен')\n",
    "if ((user_month == 2) and (19 <= user_date <= 28)) or ((user_month == 3) and (1 <= user_date <= 20)):\n",
    "    print('Рыбы')\n",
    "if ((user_month == 1) and (20 <= user_date <= 31)) or ((user_month == 2) and (1 <= user_date <= 18)):\n",
    "    print('Водолей')\n",
    "\n"
   ]
  },
  {
   "cell_type": "markdown",
   "metadata": {},
   "source": [
    "**Задание 4**. Нужно разработать приложение для финансового планирования.\n",
    "Приложение учитывает сколько уходит на ипотеку, \"на жизнь\" и сколько нужно отложить на пенсию.\n",
    "Пользователь вводит:\n",
    "- заработанную плату в месяц.\n",
    "- сколько процентов от ЗП уходит на ипотеку.\n",
    "- сколько процентов от ЗП уходит \"на жизнь\".\n",
    "- сколько раз приходит премия в год.\n",
    "\n",
    "Остальная часть заработанной платы откладывается на пенсию.\n",
    "\n",
    "Также пользователю приходит премия в размере зарплаты, от которой половина уходит на отпуск, а вторая половина откладывается.\n",
    "\n",
    "Программа должна учитывать сколько премий было в год.\n",
    "\n",
    "Нужно вывести сколько денег тратит пользователь на ипотеку и сколько он накопит за год.\n",
    "\n",
    "Пример:\n",
    "\n",
    "Введите заработанную плату в месяц: 100000\n",
    "\n",
    "Введите сколько процентов уходит на ипотеку: 30\n",
    "\n",
    "Введите сколько процентов уходит на жизнь: 50\n",
    "\n",
    "Введите количество премий за год: 2\n",
    "\n",
    "Вывод:\n",
    "На ипотеку было потрачено: 360000 рублей\n",
    "Было накоплено: 340000 рублей"
   ]
  },
  {
   "cell_type": "code",
   "execution_count": 19,
   "metadata": {},
   "outputs": [
    {
     "name": "stdout",
     "output_type": "stream",
     "text": [
      "Введите зарплату в месяц 100000\n",
      "Сколько % в месяц 30\n",
      "Сколько % на жизнь 50\n",
      "Премия в год 100000\n",
      "Премия в год 2\n",
      "Количество месяцев 12\n",
      " Накопления за период:  12 мес 340000.0\n",
      " Сумма выплаченной ипотеки за период:  12 мес 360000.0\n"
     ]
    }
   ],
   "source": [
    "x = int(input('Введите зарплату в месяц ')) # Зарплата в месяц\n",
    "y = int(input('Сколько процентов в месяц ')) # Количество процентов за ипотеку\n",
    "z = int(input('Сколько процентов \"на жизнь\" ')) # Сколько процентов уходит на жизнь\n",
    "a = int(input('Премия в год, сумма '))# Сумма премии в год\n",
    "b = int(input('Премия в год, количество '))# Количество премий в год\n",
    "c = int(input('Количество месяцев '))# Количество премий в год\n",
    "mortgage = (x * y)/100\n",
    "for_life = (x * z)/100\n",
    "vacation = a/2\n",
    "benefit = (x - mortgage - for_life) * c + (a - a/2)*b\n",
    "print (' Накопления за период: ', c, 'мес', benefit)\n",
    "mortgage_period = mortgage * c\n",
    "print (' Сумма выплаченной ипотеки за период: ', c, 'мес', mortgage_period)\n",
    "\n"
   ]
  }
 ],
 "metadata": {
  "kernelspec": {
   "display_name": "Python 3",
   "language": "python",
   "name": "python3"
  },
  "language_info": {
   "codemirror_mode": {
    "name": "ipython",
    "version": 3
   },
   "file_extension": ".py",
   "mimetype": "text/x-python",
   "name": "python",
   "nbconvert_exporter": "python",
   "pygments_lexer": "ipython3",
   "version": "3.7.4"
  }
 },
 "nbformat": 4,
 "nbformat_minor": 2
}
